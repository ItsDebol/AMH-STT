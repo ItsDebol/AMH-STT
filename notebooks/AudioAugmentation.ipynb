{
 "cells": [
  {
   "cell_type": "markdown",
   "source": [
    "# Audio Augmentation"
   ],
   "metadata": {}
  },
  {
   "cell_type": "markdown",
   "source": [
    "## Module Used\r\n",
    "https://pythonrepo.com/repo/iver56-audiomentations-python-audio"
   ],
   "metadata": {}
  },
  {
   "cell_type": "code",
   "execution_count": 1,
   "source": [
    "import sys\r\n",
    "import os\r\n",
    "from audiomentations import Compose, AddGaussianNoise, Trim, ClippingDistortion, Normalize, Gain, AddBackgroundNoise\r\n",
    "import librosa as lb\r\n",
    "import soundfile as sf\r\n",
    "import glob\r\n",
    "\r\n",
    "sys.path.append(os.path.abspath(os.path.join('..')))\r\n",
    "from scripts.logger_creator import CreateLogger"
   ],
   "outputs": [
    {
     "output_type": "stream",
     "name": "stderr",
     "text": [
      "C:\\Python38\\lib\\site-packages\\pydub\\utils.py:170: RuntimeWarning: Couldn't find ffmpeg or avconv - defaulting to ffmpeg, but may not work\n",
      "  warn(\"Couldn't find ffmpeg or avconv - defaulting to ffmpeg, but may not work\", RuntimeWarning)\n"
     ]
    }
   ],
   "metadata": {}
  },
  {
   "cell_type": "code",
   "execution_count": 2,
   "source": [
    "# Initializing Logger\r\n",
    "logger = CreateLogger('AudioAugmentor', handlers=1)\r\n",
    "logger = logger.get_default_logger()\r\n"
   ],
   "outputs": [],
   "metadata": {}
  },
  {
   "cell_type": "code",
   "execution_count": 6,
   "source": [
    "class AudioAugmentor():\r\n",
    "    def __init__(self, audios_path:str='../data/train/wav/', save_path:str='../data/train/clean_wav/', sample_rate:int=16000) -> None:\r\n",
    "        try:\r\n",
    "            self.SAMPLE_RATE = sample_rate\r\n",
    "            self.audios_path = glob.glob(audios_path + '*.wav')\r\n",
    "            self.save_path = save_path\r\n",
    "\r\n",
    "            logger.info('Successfully Created AudioAugmentor Class Object')\r\n",
    "\r\n",
    "        except Exception as e:\r\n",
    "            logger.exception('Failed to Create AudioAugmentor Class Object')\r\n",
    "\r\n",
    "    def generate_composes(self):\r\n",
    "        # Augmentations\r\n",
    "        # Clean Audio\r\n",
    "        try:\r\n",
    "            self.clean_audio = Compose([\r\n",
    "                Trim(),\r\n",
    "                ClippingDistortion(min_percentile_threshold=10, max_percentile_threshold=10, p=0.5),\r\n",
    "                Normalize()\r\n",
    "            ])\r\n",
    "\r\n",
    "            # Adding Gaussian Noise\r\n",
    "            self.guassian_noise = Compose([\r\n",
    "                Trim(),\r\n",
    "                AddGaussianNoise(min_amplitude=0.001, max_amplitude=0.015, p=0.5),\r\n",
    "                Normalize()\r\n",
    "            ])\r\n",
    "\r\n",
    "            # Increase Volume (Gain)\r\n",
    "            self.increase_volume = Compose([\r\n",
    "                Trim(),\r\n",
    "                Gain(min_gain_in_db=-10, max_gain_in_db=14),\r\n",
    "                ClippingDistortion(min_percentile_threshold=10, max_percentile_threshold=10, p=0.5),\r\n",
    "                Normalize()\r\n",
    "            ])\r\n",
    "\r\n",
    "            # Lower Volume (Gain)\r\n",
    "            self.decrease_volume = Compose([\r\n",
    "                Trim(),\r\n",
    "                Gain(min_gain_in_db=-20, max_gain_in_db=4),\r\n",
    "                ClippingDistortion(min_percentile_threshold=10, max_percentile_threshold=10, p=0.5),\r\n",
    "                Normalize()\r\n",
    "            ])\r\n",
    "\r\n",
    "            # Add Background Noise\r\n",
    "            self.background_noise_1 = Compose([\r\n",
    "                Trim(),\r\n",
    "                AddBackgroundNoise(sounds_path='../data/background_noises/bg1/', min_snr_in_db=3, max_snr_in_db=30,\r\n",
    "                                p=0.5, lru_cache_size=2,),\r\n",
    "                Normalize()\r\n",
    "            ])\r\n",
    "\r\n",
    "            self.background_noise_2 = Compose([\r\n",
    "                Trim(),\r\n",
    "                AddBackgroundNoise(sounds_path='../data/background_noises/bg2/', min_snr_in_db=3, max_snr_in_db=30,\r\n",
    "                                p=0.5, lru_cache_size=2,),\r\n",
    "                Normalize()\r\n",
    "            ])\r\n",
    "\r\n",
    "            self.background_noise_3 = Compose([\r\n",
    "                Trim(),\r\n",
    "                AddBackgroundNoise(sounds_path='../data/background_noises/bg3/', min_snr_in_db=3, max_snr_in_db=30,\r\n",
    "                                p=0.5, lru_cache_size=2,),\r\n",
    "                Normalize()\r\n",
    "            ])\r\n",
    "\r\n",
    "            logger.info('Created 7 different Types of Audio Compositions Successfully')\r\n",
    "        \r\n",
    "        except Exception as e:\r\n",
    "            logger.exception('Failed to create audio compositions')\r\n",
    "\r\n",
    "    def augment_and_save(self):\r\n",
    "        try:\r\n",
    "            for audio_path in self.audios_path:\r\n",
    "                audio, sr = lb.load(audio_path, sr=self.SAMPLE_RATE, mono=False)\r\n",
    "                name = audio_path[:-4].split('wav')[1][1:]\r\n",
    "\r\n",
    "                # Clean Audio\r\n",
    "                sf.write(self.save_path + name + '#clean.wav', self.clean_audio(samples=audio,\r\n",
    "                        sample_rate=self.SAMPLE_RATE), self.SAMPLE_RATE, subtype='PCM_24')\r\n",
    "                # Gaussain Noise\r\n",
    "                sf.write(self.save_path + name + '#gau.wav',\r\n",
    "                        self.guassian_noise(samples=audio, sample_rate=self.SAMPLE_RATE), self.SAMPLE_RATE, subtype='PCM_24')\r\n",
    "                # Increased Volume\r\n",
    "                sf.write(self.save_path + name + '#vinc.wav',\r\n",
    "                        self.increase_volume(samples=audio, sample_rate=self.SAMPLE_RATE), self.SAMPLE_RATE, subtype='PCM_24')\r\n",
    "                # Decreased Volume\r\n",
    "                sf.write(self.save_path + name + '#vdec.wav',\r\n",
    "                        self.decrease_volume(samples=audio, sample_rate=self.SAMPLE_RATE), self.SAMPLE_RATE, subtype='PCM_24')\r\n",
    "                # Background Noise 1\r\n",
    "                sf.write(self.save_path + name + '#bg1.wav',\r\n",
    "                        self.background_noise_1(samples=audio, sample_rate=self.SAMPLE_RATE), self.SAMPLE_RATE, subtype='PCM_24')\r\n",
    "                # Background Noise 2\r\n",
    "                sf.write(self.save_path + name + '#bg2.wav',\r\n",
    "                        self.background_noise_2(samples=audio, sample_rate=self.SAMPLE_RATE), self.SAMPLE_RATE, subtype='PCM_24')\r\n",
    "                # Background Noise 3\r\n",
    "                sf.write(self.save_path + name + '#bg3.wav',\r\n",
    "                        self.background_noise_3(samples=audio, sample_rate=self.SAMPLE_RATE), self.SAMPLE_RATE, subtype='PCM_24')\r\n",
    "\r\n",
    "            logger.info('Successfully Augemented and Saved all Audio Files')\r\n",
    "\r\n",
    "        except Exception as e:\r\n",
    "            logger.exception(f'Failed to Augment Audio file: {audio_path}')\r\n",
    "\r\n",
    "    def generate_augmentations(self):\r\n",
    "        self.generate_composes()\r\n",
    "        self.augment_and_save()\r\n"
   ],
   "outputs": [],
   "metadata": {}
  },
  {
   "cell_type": "code",
   "execution_count": 7,
   "source": [
    "audio_aug = AudioAugmentor()"
   ],
   "outputs": [
    {
     "output_type": "stream",
     "name": "stderr",
     "text": [
      "AudioAugmentor:INFO->Successfully Created AudioAugmentor Class Object\n"
     ]
    }
   ],
   "metadata": {}
  },
  {
   "cell_type": "code",
   "execution_count": 8,
   "source": [
    "audio_aug.generate_augmentations()"
   ],
   "outputs": [
    {
     "output_type": "stream",
     "name": "stderr",
     "text": [
      "AudioAugmentor:INFO->Created 7 different Types of Audio Compositions Successfully\n",
      "AudioAugmentor:INFO->Successfully Augemented and Saved all Audio Files\n"
     ]
    }
   ],
   "metadata": {}
  },
  {
   "cell_type": "code",
   "execution_count": null,
   "source": [],
   "outputs": [],
   "metadata": {}
  }
 ],
 "metadata": {
  "interpreter": {
   "hash": "2db524e06e9f5f4ffedc911c917cb75e12dbc923643829bf417064a77eb14d37"
  },
  "kernelspec": {
   "display_name": "Python 3",
   "language": "python",
   "name": "python3"
  },
  "language_info": {
   "codemirror_mode": {
    "name": "ipython",
    "version": 3
   },
   "file_extension": ".py",
   "mimetype": "text/x-python",
   "name": "python",
   "nbconvert_exporter": "python",
   "pygments_lexer": "ipython3",
   "version": "3.8.4"
  }
 },
 "nbformat": 4,
 "nbformat_minor": 2
}