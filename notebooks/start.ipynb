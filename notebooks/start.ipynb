{
 "cells": [
  {
   "cell_type": "code",
   "execution_count": 1,
   "source": [
    "import sys\r\n",
    "import os\r\n",
    "import tensorflow as tf\r\n",
    "import scipy.io.wavfile as wav\r\n",
    "import glob\r\n",
    "from python_speech_features import mfcc, logfbank\r\n",
    "import numpy as np\r\n",
    "from json import load\r\n",
    "\r\n",
    "sys.path.append(os.path.abspath(os.path.join('..')))\r\n",
    "from scripts.model_trainer import CTCLossLayer\r\n"
   ],
   "outputs": [],
   "metadata": {}
  },
  {
   "cell_type": "code",
   "execution_count": 25,
   "source": [
    "train_model = tf.keras.models.load_model(\r\n",
    "    '../models/stacked-lstm_train.h5', custom_objects={'CTCLossLayer':CTCLossLayer})\r\n",
    "test_model = tf.keras.models.load_model('../models/stacked-lstm_predict.h5')\r\n"
   ],
   "outputs": [
    {
     "output_type": "stream",
     "name": "stdout",
     "text": [
      "WARNING:tensorflow:No training configuration found in the save file, so the model was *not* compiled. Compile it manually.\n"
     ]
    }
   ],
   "metadata": {}
  },
  {
   "cell_type": "code",
   "execution_count": 15,
   "source": [
    "test_model.get_weights()[0]"
   ],
   "outputs": [
    {
     "output_type": "execute_result",
     "data": {
      "text/plain": [
       "array([[ 9.8760156e-03,  5.0904090e-03,  2.1440536e-03, ...,\n",
       "         7.1010218e-05,  2.2191240e-02, -1.1521566e-03],\n",
       "       [ 1.0374833e-02,  3.7352354e-03,  1.9712982e-04, ...,\n",
       "         1.3160312e-02,  1.7267222e-02, -3.9844969e-03],\n",
       "       [ 2.0356745e-02,  4.9347891e-03,  3.3088583e-03, ...,\n",
       "        -3.6529331e-03,  2.0845376e-02, -1.3723028e-03],\n",
       "       ...,\n",
       "       [ 3.2377396e-02,  4.8139649e-03, -3.8627798e-03, ...,\n",
       "        -3.2257955e-03, -6.0509192e-03, -3.9089015e-03],\n",
       "       [ 2.3114018e-02,  5.0957259e-03, -6.5801837e-03, ...,\n",
       "         3.1469143e-03,  2.2563681e-02, -2.6519238e-03],\n",
       "       [ 2.0118238e-02,  4.4266721e-03, -7.4877911e-03, ...,\n",
       "         1.0561711e-02,  1.7587548e-02, -4.5149270e-03]], dtype=float32)"
      ]
     },
     "metadata": {},
     "execution_count": 15
    }
   ],
   "metadata": {}
  },
  {
   "cell_type": "code",
   "execution_count": 16,
   "source": [
    "train_model.get_weights()[0]"
   ],
   "outputs": [
    {
     "output_type": "execute_result",
     "data": {
      "text/plain": [
       "array([[ 1.7607717e-02,  7.8646354e-03, -2.9276735e-03, ...,\n",
       "        -6.0886052e-03,  2.3322381e-02,  1.0254472e-03],\n",
       "       [ 1.6778247e-02,  5.9010573e-03, -4.8780143e-03, ...,\n",
       "         1.4590365e-02,  1.8398089e-02,  1.3089210e-03],\n",
       "       [ 2.9123748e-02,  8.3491579e-03, -6.0243993e-03, ...,\n",
       "        -4.4795186e-03,  1.9652918e-02, -5.9251970e-04],\n",
       "       ...,\n",
       "       [ 3.3143297e-02,  9.8850746e-03, -7.3817526e-03, ...,\n",
       "         3.1702055e-03, -1.3194567e-02, -5.8042508e-04],\n",
       "       [ 2.2572132e-02,  1.0355887e-02, -8.7000532e-03, ...,\n",
       "         7.5934164e-05,  1.6969645e-02, -9.2280519e-05],\n",
       "       [ 2.1201307e-02,  1.0082344e-02, -7.5118048e-03, ...,\n",
       "         8.4226280e-03,  1.2096869e-02,  1.6247890e-03]], dtype=float32)"
      ]
     },
     "metadata": {},
     "execution_count": 16
    }
   ],
   "metadata": {}
  },
  {
   "cell_type": "code",
   "execution_count": null,
   "source": [
    "# test_model.set_weights(train_model.get_weights())"
   ],
   "outputs": [],
   "metadata": {}
  },
  {
   "cell_type": "code",
   "execution_count": 19,
   "source": [
    "files_path = glob.glob('../data/train/wav/' + '*.wav')\r\n",
    "\r\n",
    "audio_list = []\r\n",
    "\r\n",
    "for file_name in files_path:\r\n",
    "    fs, audio = wav.read(file_name)\r\n",
    "    audio_list.append(audio)\r\n",
    "\r\n",
    "inputs_list = []\r\n",
    "for audio in audio_list:\r\n",
    "    input_val = logfbank(audio, samplerate=16000, nfilt=26)\r\n",
    "    input_val = (input_val - np.mean(input_val)) / np.std(input_val)\r\n",
    "    inputs_list.append(input_val)\r\n",
    "\r\n",
    "test_inputs = tf.ragged.constant([i for i in inputs_list], dtype=np.float32)\r\n",
    "test_seq_len = tf.cast(test_inputs.row_lengths(), tf.int32)\r\n",
    "test_inputs = test_inputs.to_tensor(default_value=1e+10)\r\n"
   ],
   "outputs": [],
   "metadata": {}
  },
  {
   "cell_type": "code",
   "execution_count": 26,
   "source": [
    "with open('../data/alphabets_data.json', 'r', encoding='UTF-8') as alphabets_file:\r\n",
    "    alphabets = load(alphabets_file)\r\n",
    "with open('../data/train_labels.json', 'r', encoding='UTF-8') as label_file:\r\n",
    "    labels = load(label_file)"
   ],
   "outputs": [],
   "metadata": {}
  },
  {
   "cell_type": "code",
   "execution_count": 27,
   "source": [
    "prediction_list = []\r\n",
    "decoded, _ = tf.nn.ctc_greedy_decoder(tf.transpose(test_model.predict(test_inputs), (1, 0, 2)), test_seq_len)\r\n",
    "d = tf.sparse.to_dense(decoded[0], default_value=-1).numpy()\r\n",
    "str_decoded = [''.join([alphabets['num_to_char'][str(x)]\r\n",
    "                        for x in np.asarray(row) if x != -1]) for row in d]\r\n",
    "for prediction in str_decoded:\r\n",
    "    # Replacing blank label to none\r\n",
    "    # s = s.replace(num_classes, '')\r\n",
    "    # Replacing Spaces\r\n",
    "    prediction = prediction.replace(\r\n",
    "        alphabets['num_to_char']['0'], ' ')\r\n",
    "    prediction_list.append(prediction)\r\n"
   ],
   "outputs": [],
   "metadata": {}
  },
  {
   "cell_type": "code",
   "execution_count": 28,
   "source": [
    "i = 0\r\n",
    "amount = 10\r\n",
    "if amount > len(prediction_list): amount = len(prediction_list)\r\n",
    "for key, value in labels.items():\r\n",
    "    if(i > amount): break\r\n",
    "    print('Original:')\r\n",
    "    print(value)\r\n",
    "    print('Model Transcription:')\r\n",
    "    print(prediction_list[i])\r\n",
    "    i += 1"
   ],
   "outputs": [
    {
     "output_type": "stream",
     "name": "stdout",
     "text": [
      "Original:\n",
      "የተለያዩ የትግራይ አውራጃ ተወላጆች ገንዘባቸውን አዋጥተው የልማት ተቋማትን እንዲመሰርቱ ትልማ አይፈቅድም\n",
      "Model Transcription:\n",
      "የተና የግራ ገቶር ላ ዱች ነዛባቸው ነወገጣ ለና ታጠጓናተሚእንዲናሳረቱ ትርማዋተድ\n",
      "Original:\n",
      "የጠመንጃ ተኩስ ተከፈተና አራት የኤርትራ ወታደሮች ተገደሉ\n",
      "Model Transcription:\n",
      "የጠመንጃ ተኩስ ተከፈተና አራት የኤርትራ ወታደሮች ተገደሉ\n",
      "Original:\n",
      "ላነሷቸው ጥያቄዎች የሰጡትን መልስ አቅርበነዋል\n",
      "Model Transcription:\n",
      "ባሩሳት ትጀርች የሰር ተቡ መስ አገርጋለዋ\n",
      "Original:\n",
      "እብዱ አስፋልቱ ላይ የኰለኰ ለውድንጋይ መኪና አላሳልፍአለ\n",
      "Model Transcription:\n",
      "እብዱ አስፋልቱ ላይ የኰለኰ ለውድንጋይ መኪና አላሳልፍአለ\n",
      "Original:\n",
      "ጠጁን ኰመኰመ ኰመኰመና ሚስቱን ሲያሰቃያት አደረ\n",
      "Model Transcription:\n",
      "ጠጁን ኰመኰመ ኰመኰመና ሚስቱን ሲያሰቃያት አደረ\n",
      "Original:\n",
      "ድንቹ በደንብ ስለተኰተኰተ በጥሩ ሁኔታ ኰረተ\n",
      "Model Transcription:\n",
      "ቤቹ በደን ስላተጐ ተባ ተ በተሩ ሁያየዳ ረተ\n",
      "Original:\n",
      "በድህነቱ ላይ ይህ ክፉ በሽታ ስለያዘው ሰውነቱ በጣም ኰሰሰ\n",
      "Model Transcription:\n",
      "በዴ ነቱ ላይ ይህህ ክፉ በሽታ ስላያለው ምናቱ በጣም ሰ\n",
      "Original:\n",
      "በሩን እንዲህ በሀይል አታንኳኲ ብዬ አልነበረም እንዴ\n",
      "Model Transcription:\n",
      "በሩን እንዲህ በሀይል አታንኳኲ ብዬ አልነበረም እንዴ\n",
      "Original:\n",
      "በለጠች የበየነ የበኩር ልጅ ነች\n",
      "Model Transcription:\n",
      "በለጠች የበየነ የበኩር ልጅ ነች\n",
      "Original:\n",
      "የቆላ ቁስልና ቁርጥማት በጣም አሰቃቂ በሽታዎች ናቸው\n",
      "Model Transcription:\n",
      "የቆላ ቁስልና ቁርጥማት በጣም አሰቃቂ በሽታዎች ናቸው\n",
      "Original:\n",
      "ያኮምፒተር ለተጠቃሚው በትክክል የሚፈለገውን ነገር እንዲያሟላ ማድረግ ነው\n",
      "Model Transcription:\n",
      "ያኮንዲ ተ ነተተጫም የእንመትኢትሄ የሚሻ ይነገ ሚዳያ ን ሞሪሪ አገድሉ\n"
     ]
    }
   ],
   "metadata": {}
  },
  {
   "cell_type": "code",
   "execution_count": null,
   "source": [],
   "outputs": [],
   "metadata": {}
  }
 ],
 "metadata": {
  "orig_nbformat": 4,
  "language_info": {
   "name": "python",
   "version": "3.8.4",
   "mimetype": "text/x-python",
   "codemirror_mode": {
    "name": "ipython",
    "version": 3
   },
   "pygments_lexer": "ipython3",
   "nbconvert_exporter": "python",
   "file_extension": ".py"
  },
  "kernelspec": {
   "name": "python3",
   "display_name": "Python 3.8.4 64-bit"
  },
  "interpreter": {
   "hash": "2db524e06e9f5f4ffedc911c917cb75e12dbc923643829bf417064a77eb14d37"
  }
 },
 "nbformat": 4,
 "nbformat_minor": 2
}