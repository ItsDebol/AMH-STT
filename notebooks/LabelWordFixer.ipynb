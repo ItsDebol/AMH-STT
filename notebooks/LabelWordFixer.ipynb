{
 "cells": [
  {
   "cell_type": "markdown",
   "source": [
    "# Fix Labels"
   ],
   "metadata": {}
  },
  {
   "cell_type": "markdown",
   "source": [
    "## Alphabets are put as words in some of the labels"
   ],
   "metadata": {}
  },
  {
   "cell_type": "code",
   "execution_count": 1,
   "source": [
    "import sys\r\n",
    "import os\r\n",
    "from json import load, dump\r\n",
    "\r\n",
    "sys.path.append(os.path.abspath(os.path.join('..')))\r\n",
    "from scripts.logger_creator import CreateLogger"
   ],
   "outputs": [],
   "metadata": {}
  },
  {
   "cell_type": "code",
   "execution_count": 2,
   "source": [
    "# Initializing Logger\r\n",
    "logger = CreateLogger('LabelsFixer', handlers=1)\r\n",
    "logger = logger.get_default_logger()\r\n"
   ],
   "outputs": [],
   "metadata": {}
  },
  {
   "cell_type": "code",
   "execution_count": 3,
   "source": [
    "class LabelCleaner():\r\n",
    "    def __init__(self, train_labels: str = '../data/train_labels.json', test_labels: str = '../data/test_labels.json') -> None:\r\n",
    "        try:\r\n",
    "            self.train_labels_path = train_labels\r\n",
    "            self.test_labels_path = test_labels\r\n",
    "\r\n",
    "            logger.info('Successfully Created Label Cleaner Class Object')\r\n",
    "\r\n",
    "        except Exception as e:\r\n",
    "            logger.exception('Failed to create Label Cleaner Class Object')\r\n",
    "\r\n",
    "    def load_labels(self):\r\n",
    "        try:\r\n",
    "            with open(self.train_labels_path, 'r', encoding='UTF-8') as label_file:\r\n",
    "                self.train_labels = load(label_file)\r\n",
    "\r\n",
    "            with open(self.test_labels_path, 'r', encoding='UTF-8') as label_file:\r\n",
    "                self.test_labels = load(label_file)\r\n",
    "\r\n",
    "            logger.info('Successfully Loaded Train and Test Label Files')\r\n",
    "                \r\n",
    "        except Exception as e:\r\n",
    "            logger.exception('Failed to Load Labels')\r\n",
    "\r\n",
    "    def clean_suffixes(self):\r\n",
    "        self.train_cleaned_labels = self.clean_labels_suffixes(self.train_labels)\r\n",
    "        self.test_cleaned_labels = self.clean_labels_suffixes(self.test_labels)\r\n",
    "\r\n",
    "    def save_labels(self, train_file_name: str = '../data/train_labels.json', test_file_name: str = '../data/test_labels.json') -> None:\r\n",
    "        try:\r\n",
    "            with open(train_file_name, \"w\", encoding='UTF-8') as export_file:\r\n",
    "                dump(self.train_cleaned_labels, export_file, indent=4, sort_keys=True, ensure_ascii=False)\r\n",
    "\r\n",
    "            with open(test_file_name, \"w\", encoding='UTF-8') as export_file:\r\n",
    "                dump(self.test_cleaned_labels, export_file, indent=4, sort_keys=True, ensure_ascii=False)\r\n",
    "\r\n",
    "            logger.info(f'Successfully Saved Cleaned Lables in: {train_file_name} and {test_file_name}')\r\n",
    "\r\n",
    "        except Exception as e:\r\n",
    "            logger.exception('Failed to Save Cleaned lables')\r\n",
    "\r\n",
    "    def clean_labels_suffixes(self, label_dict:dict):\r\n",
    "        try:\r\n",
    "            cleaned_labels = {}\r\n",
    "            for key, label in label_dict.items():\r\n",
    "                word_list = label.split()\r\n",
    "                cleaned_label = []\r\n",
    "                append_prefix = None\r\n",
    "                prefix_words = ['እ', 'የ', \"አይ\", \"ሲ\", \"አላ\",'እንዲ', 'ኰ', 'በ', 'ስለ', 'የሚ', 'ያ', 'አ', 'ለ', 'ከ', 'ተጉ',\r\n",
    "                                'ሳ', 'ጐረ', 'አል', 'እጀ', 'ባ', 'እንዳስ', 'በተ', 'ተና', 'እንደ', 'ሳይ', 'ንግስተ', 'ሊ', 'እንደ',\r\n",
    "                                'ሊ', 'የተ', 'ጠቁ', 'ተ', 'እያ', 'እን', 'ተሽ', 'አሳ', 'አከራ', 'አስራ', 'ለባለ', 'አለ', 'ከሚያ',\r\n",
    "                                'ሳይ', 'ካይ', 'እንዳል', 'ካ', 'ሊያ', 'ያመኑ', 'አሰባ', 'እንደሚ', 'እየ']\r\n",
    "                suffix_words = ['ን', \"ም\", \"ና\", \"ያት\",'ው', 'ነዋል', 'ተው', 'መ', 'መና', 'ች', 'ማት', 'ተር', 'ኝ', 'ቱ',\r\n",
    "                                'ሎ', 'ት', 'ሁ', 'ጤ', 'ብ', 'ፋው', 'ዬ', 'ጉር', 'ጉ', 'ሯቸው', 'ወድ', 'ስ', 'ዬን', 'ጓጉ',\r\n",
    "                                'ቻት', 'ጔ', 'ወ', 'ሚ', 'ልሽ', 'ንም', 'ሺ', 'ኲ', 'ቷል', 'ዋል', 'ቸውን', 'ተኛ', 'ስት', 'ዎች',\r\n",
    "                                'ታል', 'ል', 'ዋጣ', 'ያችን', 'ችን', 'ውን', 'ስቶች', 'በታል', 'ነውን', 'ችል', 'ቸው', 'ባቸዋል', 'ሉት',\r\n",
    "                                'ሉት', 'ላቸው', 'ተውናል', 'ችሏል', 'ዶች']\r\n",
    "\r\n",
    "                for word in word_list:\r\n",
    "                    if(word in prefix_words):\r\n",
    "                        if(append_prefix != None):\r\n",
    "                            append_prefix = append_prefix + word\r\n",
    "                        else:\r\n",
    "                            append_prefix = word\r\n",
    "                        try:\r\n",
    "                            if(word == word_list[-1]):\r\n",
    "                                cleaned_label[-1] = cleaned_label[-1] + append_prefix\r\n",
    "                            continue\r\n",
    "                        except:\r\n",
    "                            continue\r\n",
    "                    elif(word in suffix_words):\r\n",
    "                        if(append_prefix != None):\r\n",
    "                            append_prefix  = append_prefix + word\r\n",
    "                        else:\r\n",
    "                            try:\r\n",
    "                                cleaned_label[-1] = cleaned_label[-1] + word\r\n",
    "                            except:\r\n",
    "                                append_prefix = word\r\n",
    "                        continue\r\n",
    "                    elif(append_prefix != None):\r\n",
    "                        word = append_prefix + word\r\n",
    "                        append_prefix = None\r\n",
    "                    \r\n",
    "                    cleaned_label.append(word)\r\n",
    "\r\n",
    "                cleaned_labels[key] = ' '.join(cleaned_label)\r\n",
    "            \r\n",
    "            logger.info('Successfully Cleaned Label Suffixes')\r\n",
    "                \r\n",
    "            return cleaned_labels\r\n",
    "\r\n",
    "\r\n",
    "        except Exception as e:\r\n",
    "            logger.exception('Failed To Clean Labels')\r\n",
    "\r\n",
    "    def clean_and_save(self):\r\n",
    "        self.load_labels()\r\n",
    "        self.clean_suffixes()\r\n",
    "        self.save_labels()"
   ],
   "outputs": [],
   "metadata": {}
  },
  {
   "cell_type": "code",
   "execution_count": 4,
   "source": [
    "label_cleaner = LabelCleaner()"
   ],
   "outputs": [
    {
     "output_type": "stream",
     "name": "stderr",
     "text": [
      "LabelsFixer:INFO->Successfully Created Label Cleaner Class Object\n"
     ]
    }
   ],
   "metadata": {}
  },
  {
   "cell_type": "code",
   "execution_count": 5,
   "source": [
    "label_cleaner.clean_and_save()"
   ],
   "outputs": [
    {
     "output_type": "stream",
     "name": "stderr",
     "text": [
      "LabelsFixer:INFO->Successfully Loaded Train and Test Label Files\n",
      "LabelsFixer:INFO->Successfully Cleaned Label Suffixes\n",
      "LabelsFixer:INFO->Successfully Cleaned Label Suffixes\n",
      "LabelsFixer:INFO->Successfully Saved Cleaned Lables in: ../data/train_labels.json and ../data/test_labels.json\n"
     ]
    }
   ],
   "metadata": {}
  },
  {
   "cell_type": "code",
   "execution_count": null,
   "source": [],
   "outputs": [],
   "metadata": {}
  }
 ],
 "metadata": {
  "orig_nbformat": 4,
  "language_info": {
   "name": "python",
   "version": "3.8.4",
   "mimetype": "text/x-python",
   "codemirror_mode": {
    "name": "ipython",
    "version": 3
   },
   "pygments_lexer": "ipython3",
   "nbconvert_exporter": "python",
   "file_extension": ".py"
  },
  "kernelspec": {
   "name": "python3",
   "display_name": "Python 3.8.4 64-bit"
  },
  "interpreter": {
   "hash": "2db524e06e9f5f4ffedc911c917cb75e12dbc923643829bf417064a77eb14d37"
  }
 },
 "nbformat": 4,
 "nbformat_minor": 2
}