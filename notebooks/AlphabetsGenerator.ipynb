{
 "cells": [
  {
   "cell_type": "code",
   "execution_count": 6,
   "source": [
    "import sys\r\n",
    "import os\r\n",
    "from json import dump, load\r\n",
    "\r\n",
    "sys.path.append(os.path.abspath(os.path.join('..')))\r\n",
    "from scripts.logger_creator import CreateLogger\r\n"
   ],
   "outputs": [],
   "metadata": {}
  },
  {
   "cell_type": "code",
   "execution_count": 7,
   "source": [
    "# Initializing Logger\r\n",
    "logger = CreateLogger('AlphabetsBuilder', handlers=1)\r\n",
    "logger = logger.get_default_logger()\r\n"
   ],
   "outputs": [],
   "metadata": {}
  },
  {
   "cell_type": "code",
   "execution_count": 8,
   "source": [
    "class AlphabetsBuilder():\r\n",
    "    def __init__(self,file_name: str, alphabets_type: int = 2, train_labels: str = '../data/train_labels.json', test_labels: str = '../data/test_labels.json') -> None:\r\n",
    "        try:\r\n",
    "            self.file_name = file_name\r\n",
    "            self.alphabets_type = alphabets_type\r\n",
    "            self.train_labels = train_labels\r\n",
    "            self.test_labels = test_labels\r\n",
    "            self.alphabets_data = {}\r\n",
    "            logger.info('Successfully Created Alphabets Builder Class Object')\r\n",
    "\r\n",
    "        except Exception as e:\r\n",
    "            logger.exception(\"Failed to create Alphabets Builder Class Object\")\r\n",
    "\r\n",
    "    def get_supported_alphabets(self):\r\n",
    "        try:\r\n",
    "            # Method 1\r\n",
    "            # Conside the entire Amharic Alphabets\r\n",
    "            if(self.alphabets_type == 1):\r\n",
    "                # Defining Entire Amharic Alphabets\r\n",
    "                self.supported_alphabets = \"\"\"\r\n",
    "                    ሀ ሁ ሂ ሃ ሄ ህ ሆ ለ ሉ ሊ ላ ሌ ል ሎ ሏ ሐ ሑ ሒ ሓ ሔ ሕ ሖ ሗ መ ሙ ሚ ማ ሜ ም ሞ ሟ ሠ ሡ ሢ ሣ ሤ ሥ ሦ ሧ\r\n",
    "                    ረ ሩ ሪ ራ ሬ ር ሮ ሯ ሰ ሱ ሲ ሳ ሴ ስ ሶ ሷ ሸ ሹ ሺ ሻ ሼ ሽ ሾ ሿ ቀ ቁ ቂ ቃ ቄ ቅ ቆ ቇ ቋ ቐ ቐ ቑ ቒ ቓ ቔ ቕ ቖ\r\n",
    "                    በ ቡ ቢ ባ ቤ ብ ቦ ቧ ቨ ቩ ቪ ቫ ቬ ቭ ቮ ቯ ተ ቱ ቲ ታ ቴ ት ቶ ቷ ቸ ቹ ቺ ቻ ቼ ች ቾ ቿ ኀ ኁ ኂ ኃ ኄ ኅ ኆ ኇ ኋ \r\n",
    "                    ነ ኑ ኒ ና ኔ ን ጓ ኖ ኗ ኘ ኙ ኚ ኛ ኜ ኝ ኞ ኟ አ ኡ ኢ ኣ ኤ እ ኦ ኧ ከ ኩ ኪ ካ ኬ ክ ኮ ኯ ኰ ኳ ኲ\r\n",
    "                    ኸ ኹ ኺ ኻ ኼ ኽ ኾ ወ ዉ ዊ ዋ ዌ ው ዎ ዐ ዑ ዒ ዓ ዔ ዕ ዖ ዘ ዙ ዚ ዛ ዜ ዝ ዞ ዟ ዠ ዡ ዢ ዣ ዤ ዥ ዦ ዧ\r\n",
    "                    የ ዩ ዪ ያ ዬ ይ ዮ ዯ ደ ዱ ዲ ዳ ዴ ድ ዶ ዷ ጀ ጁ ጂ ጃ ጄ ጅ ጆ ጇ ገ ጉ ጊ ጋ ጌ ግ ጐ ጎ ጏ ጔ ጠ ጡ ጢ ጣ ጤ ጥ ጦ ጧ ጨ ጩ ጪ ጫ ጬ ጭ ጮ ጯ\r\n",
    "                    ጰ ጱ ጲ ጳ ጴ ጵ ጶ ጷ ጸ ጹ ጺ ጻ ጼ ጽ ጾ ጿ ፀ ፁ ፂ ፃ ፄ ፅ ፆ ፇ ፈ ፉ ፊ ፋ ፌ ፍ ፎ ፏ ፐ ፑ ፒ ፓ ፔ ፕ ፖ ፗ\r\n",
    "                \"\"\".split()\r\n",
    "                # Adding space\r\n",
    "                self.supported_alphabets.insert(0, '<space>')\r\n",
    "\r\n",
    "                logger.info('Successfully retrieved alphabets from the entire Amharic Language')\r\n",
    "\r\n",
    "            else:\r\n",
    "                # Method 2\r\n",
    "                # Conside Characters only from the train and test transcriptions\r\n",
    "                # Reading Train Labels\r\n",
    "                with open(self.train_labels, 'r', encoding='UTF-8') as label_file:\r\n",
    "                    train_labels = load(label_file)\r\n",
    "                # Reading Test Labels\r\n",
    "                with open(self.test_labels, 'r', encoding='UTF-8') as label_file:\r\n",
    "                    test_labels = load(label_file)\r\n",
    "\r\n",
    "                # Creating an Alphabet Character Set\r\n",
    "                char_set = set()\r\n",
    "\r\n",
    "                # Reading from each Labels to extract alphabets\r\n",
    "                # Extracting from Train Labels\r\n",
    "                for label in train_labels.values():\r\n",
    "                    characters = [char for char in label]\r\n",
    "                    char_set.update(characters)\r\n",
    "\r\n",
    "                # Extracting from Test Labels\r\n",
    "                for label in test_labels.values():\r\n",
    "                    characters = [char for char in label]\r\n",
    "                    char_set.update(characters)\r\n",
    "\r\n",
    "                # Creating Alphabets List\r\n",
    "                self.supported_alphabets = list(char_set)\r\n",
    "                # Removing Space and Inserting as <space>\r\n",
    "                self.supported_alphabets.remove(' ')\r\n",
    "                self.supported_alphabets.insert(0, '<space>')\r\n",
    "\r\n",
    "                logger.info('Successfully retrieved alphabets from train and test transcriptions')\r\n",
    "\r\n",
    "        except Exception as e:\r\n",
    "            logger.exception('Failed To retrieve supported alphabets')\r\n",
    "\r\n",
    "    def construct_conversion_dicts(self):\r\n",
    "        try:\r\n",
    "            # Constructing Alphabet to num conversion dict\r\n",
    "            alphabet_to_num = {}\r\n",
    "            index = 0\r\n",
    "            # Iterating through alphabets and appending to the conversion dictionary\r\n",
    "            for alphabet in self.supported_alphabets:\r\n",
    "                alphabet_to_num[alphabet] = index\r\n",
    "                index += 1\r\n",
    "\r\n",
    "            # Constructing Alphabet to num conversion dict\r\n",
    "            # Iterating through alphabets to num dictionary to create the reverse\r\n",
    "            num_to_alphabet = {v: k for k, v in alphabet_to_num.items()}\r\n",
    "\r\n",
    "            self.alphabets_data['char_to_num'] = alphabet_to_num\r\n",
    "            self.alphabets_data['num_to_char'] = num_to_alphabet\r\n",
    "            self.alphabets_data['alphabet_size'] = len(self.supported_alphabets)\r\n",
    "\r\n",
    "            logger.info('Successfully constructed conversion dictionaries')\r\n",
    "\r\n",
    "        except Exception as e:\r\n",
    "            logger.exception('Failed to construct conversion dictionaries')\r\n",
    "\r\n",
    "    def save_alphabets_dict(self):\r\n",
    "        try:\r\n",
    "            with open(self.file_name, \"w\", encoding='UTF-8') as export_file:\r\n",
    "                dump(self.alphabets_data, export_file, indent=4, sort_keys=True, ensure_ascii=False)\r\n",
    "\r\n",
    "            logger.info(f'Successfuly Saved Generated Alphabets Dictionary in: {self.file_name}')\r\n",
    "\r\n",
    "        except Exception as e:\r\n",
    "            logger.exception('Failed to Save Generated Alphabets Dictionary')\r\n",
    "\r\n",
    "    def generate_and_save_alphabets(self):\r\n",
    "        self.get_supported_alphabets()\r\n",
    "        self.construct_conversion_dicts()\r\n",
    "        self.save_alphabets_dict()\r\n"
   ],
   "outputs": [],
   "metadata": {}
  },
  {
   "cell_type": "code",
   "execution_count": 10,
   "source": [
    "alphabet_builder = AlphabetsBuilder('../data/alphabets_data.json')\r\n"
   ],
   "outputs": [
    {
     "output_type": "stream",
     "name": "stderr",
     "text": [
      "AlphabetsBuilder:INFO->Successfully Created Alphabets Builder Class Object\n",
      "AlphabetsBuilder:INFO->Successfully Created Alphabets Builder Class Object\n"
     ]
    }
   ],
   "metadata": {}
  },
  {
   "cell_type": "code",
   "execution_count": 11,
   "source": [
    "alphabet_builder.generate_and_save_alphabets()\r\n"
   ],
   "outputs": [
    {
     "output_type": "stream",
     "name": "stderr",
     "text": [
      "AlphabetsBuilder:INFO->Successfully retrieved alphabets from train and test transcriptions\n",
      "AlphabetsBuilder:INFO->Successfully retrieved alphabets from train and test transcriptions\n",
      "AlphabetsBuilder:INFO->Successfully constructed conversion dictionaries\n",
      "AlphabetsBuilder:INFO->Successfully constructed conversion dictionaries\n",
      "AlphabetsBuilder:INFO->Successfuly Saved Generated Alphabets Dictionary in: ../data/alphabets_data.json\n",
      "AlphabetsBuilder:INFO->Successfuly Saved Generated Alphabets Dictionary in: ../data/alphabets_data.json\n"
     ]
    }
   ],
   "metadata": {}
  },
  {
   "cell_type": "code",
   "execution_count": null,
   "source": [],
   "outputs": [],
   "metadata": {}
  }
 ],
 "metadata": {
  "orig_nbformat": 4,
  "language_info": {
   "name": "python",
   "version": "3.8.4",
   "mimetype": "text/x-python",
   "codemirror_mode": {
    "name": "ipython",
    "version": 3
   },
   "pygments_lexer": "ipython3",
   "nbconvert_exporter": "python",
   "file_extension": ".py"
  },
  "kernelspec": {
   "name": "python3",
   "display_name": "Python 3.8.4 64-bit"
  },
  "interpreter": {
   "hash": "2db524e06e9f5f4ffedc911c917cb75e12dbc923643829bf417064a77eb14d37"
  }
 },
 "nbformat": 4,
 "nbformat_minor": 2
}