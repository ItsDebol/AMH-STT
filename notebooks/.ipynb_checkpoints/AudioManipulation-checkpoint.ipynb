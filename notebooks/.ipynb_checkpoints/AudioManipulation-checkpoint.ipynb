{
 "cells": [
  {
   "cell_type": "code",
   "execution_count": 2,
   "metadata": {},
   "outputs": [],
   "source": [
    "import os\n",
    "import sys\n",
    "import librosa\n",
    "import seaborn as sn\n",
    "sys.path.append(os.path.abspath(os.path.join('../')))\n",
    "from scripts.audio_loader import AudioLoader\n",
    "from scripts.audio_manuplator import AudioManipulator\n",
    "import scripts.visualize as vis\n",
    "from scripts.results_pickler import ResultPickler\n",
    "import pandas as pd\n",
    "import matplotlib.pyplot as plt\n",
    "import numpy as np\n",
    "import random\n"
   ]
  },
  {
   "cell_type": "markdown",
   "metadata": {},
   "source": [
    "## Load Audio files"
   ]
  },
  {
   "cell_type": "code",
   "execution_count": 3,
   "metadata": {},
   "outputs": [
    {
     "name": "stderr",
     "output_type": "stream",
     "text": [
      "AudioExplorer:INFO->Successfully Created AudioExplorer Class\n",
      "AudioExplorer:INFO->Successfully Loaded Audio and TTS files\n",
      "AudioPreprocessor:INFO->Successfully Inherited AudioExplorer Class\n",
      "AudioPreprocessor:INFO->Successfully Inherited AudioExplorer Class\n"
     ]
    }
   ],
   "source": [
    "al_train = AudioLoader(directory='../data/train')\n",
    "# al_test = AudioLoader(directory=\"../data/test\",tts_file=r'/trsTest.txt')\n"
   ]
  },
  {
   "cell_type": "code",
   "execution_count": 4,
   "metadata": {},
   "outputs": [
    {
     "data": {
      "text/html": [
       "<div>\n",
       "<style scoped>\n",
       "    .dataframe tbody tr th:only-of-type {\n",
       "        vertical-align: middle;\n",
       "    }\n",
       "\n",
       "    .dataframe tbody tr th {\n",
       "        vertical-align: top;\n",
       "    }\n",
       "\n",
       "    .dataframe thead th {\n",
       "        text-align: right;\n",
       "    }\n",
       "</style>\n",
       "<table border=\"1\" class=\"dataframe\">\n",
       "  <thead>\n",
       "    <tr style=\"text-align: right;\">\n",
       "      <th></th>\n",
       "      <th>Name</th>\n",
       "      <th>Duration</th>\n",
       "      <th>Channels</th>\n",
       "      <th>SamplingRate</th>\n",
       "      <th>TimeSeriesData</th>\n",
       "      <th>HasTTS</th>\n",
       "    </tr>\n",
       "  </thead>\n",
       "  <tbody>\n",
       "    <tr>\n",
       "      <th>0</th>\n",
       "      <td>tr_1003_tr11004</td>\n",
       "      <td>4.736</td>\n",
       "      <td>Mono</td>\n",
       "      <td>16000</td>\n",
       "      <td>[-0.02355957, -0.023071289, -0.022705078, -0.0...</td>\n",
       "      <td>True</td>\n",
       "    </tr>\n",
       "    <tr>\n",
       "      <th>1</th>\n",
       "      <td>tr_10577_tr30138</td>\n",
       "      <td>8.576</td>\n",
       "      <td>Mono</td>\n",
       "      <td>16000</td>\n",
       "      <td>[-0.12817383, -0.12756348, -0.12817383, -0.128...</td>\n",
       "      <td>True</td>\n",
       "    </tr>\n",
       "    <tr>\n",
       "      <th>2</th>\n",
       "      <td>tr_10617_tr04131</td>\n",
       "      <td>4.608</td>\n",
       "      <td>Mono</td>\n",
       "      <td>16000</td>\n",
       "      <td>[-0.1159668, -0.11657715, -0.1171875, -0.11657...</td>\n",
       "      <td>True</td>\n",
       "    </tr>\n",
       "    <tr>\n",
       "      <th>3</th>\n",
       "      <td>tr_10399_tr23101</td>\n",
       "      <td>3.200</td>\n",
       "      <td>Mono</td>\n",
       "      <td>16000</td>\n",
       "      <td>[-0.12695312, -0.12756348, -0.12695312, -0.127...</td>\n",
       "      <td>True</td>\n",
       "    </tr>\n",
       "    <tr>\n",
       "      <th>4</th>\n",
       "      <td>tr_10379_tr100101</td>\n",
       "      <td>4.224</td>\n",
       "      <td>Mono</td>\n",
       "      <td>16000</td>\n",
       "      <td>[-0.13061523, -0.13000488, -0.13000488, -0.131...</td>\n",
       "      <td>True</td>\n",
       "    </tr>\n",
       "    <tr>\n",
       "      <th>...</th>\n",
       "      <td>...</td>\n",
       "      <td>...</td>\n",
       "      <td>...</td>\n",
       "      <td>...</td>\n",
       "      <td>...</td>\n",
       "      <td>...</td>\n",
       "    </tr>\n",
       "    <tr>\n",
       "      <th>995</th>\n",
       "      <td>tr_1016_tr11017</td>\n",
       "      <td>11.422</td>\n",
       "      <td>Mono</td>\n",
       "      <td>16000</td>\n",
       "      <td>[-0.01965332, -0.01965332, -0.01977539, -0.019...</td>\n",
       "      <td>True</td>\n",
       "    </tr>\n",
       "    <tr>\n",
       "      <th>996</th>\n",
       "      <td>tr_10054_tr098016</td>\n",
       "      <td>4.608</td>\n",
       "      <td>Mono</td>\n",
       "      <td>16000</td>\n",
       "      <td>[-0.13000488, -0.12939453, -0.12817383, -0.127...</td>\n",
       "      <td>True</td>\n",
       "    </tr>\n",
       "    <tr>\n",
       "      <th>997</th>\n",
       "      <td>tr_10_tr01010</td>\n",
       "      <td>10.368</td>\n",
       "      <td>Mono</td>\n",
       "      <td>16000</td>\n",
       "      <td>[-0.0057678223, -0.006011963, -0.0059814453, -...</td>\n",
       "      <td>True</td>\n",
       "    </tr>\n",
       "    <tr>\n",
       "      <th>998</th>\n",
       "      <td>tr_10370_tr100092</td>\n",
       "      <td>3.584</td>\n",
       "      <td>Mono</td>\n",
       "      <td>16000</td>\n",
       "      <td>[-0.123291016, -0.12390137, -0.12451172, -0.12...</td>\n",
       "      <td>True</td>\n",
       "    </tr>\n",
       "    <tr>\n",
       "      <th>999</th>\n",
       "      <td>tr_1096_tr11097</td>\n",
       "      <td>11.264</td>\n",
       "      <td>Mono</td>\n",
       "      <td>16000</td>\n",
       "      <td>[-0.022094727, -0.021362305, -0.021728516, -0....</td>\n",
       "      <td>True</td>\n",
       "    </tr>\n",
       "  </tbody>\n",
       "</table>\n",
       "<p>1000 rows × 6 columns</p>\n",
       "</div>"
      ],
      "text/plain": [
       "                  Name  Duration Channels  SamplingRate  \\\n",
       "0      tr_1003_tr11004     4.736     Mono         16000   \n",
       "1     tr_10577_tr30138     8.576     Mono         16000   \n",
       "2     tr_10617_tr04131     4.608     Mono         16000   \n",
       "3     tr_10399_tr23101     3.200     Mono         16000   \n",
       "4    tr_10379_tr100101     4.224     Mono         16000   \n",
       "..                 ...       ...      ...           ...   \n",
       "995    tr_1016_tr11017    11.422     Mono         16000   \n",
       "996  tr_10054_tr098016     4.608     Mono         16000   \n",
       "997      tr_10_tr01010    10.368     Mono         16000   \n",
       "998  tr_10370_tr100092     3.584     Mono         16000   \n",
       "999    tr_1096_tr11097    11.264     Mono         16000   \n",
       "\n",
       "                                        TimeSeriesData  HasTTS  \n",
       "0    [-0.02355957, -0.023071289, -0.022705078, -0.0...    True  \n",
       "1    [-0.12817383, -0.12756348, -0.12817383, -0.128...    True  \n",
       "2    [-0.1159668, -0.11657715, -0.1171875, -0.11657...    True  \n",
       "3    [-0.12695312, -0.12756348, -0.12695312, -0.127...    True  \n",
       "4    [-0.13061523, -0.13000488, -0.13000488, -0.131...    True  \n",
       "..                                                 ...     ...  \n",
       "995  [-0.01965332, -0.01965332, -0.01977539, -0.019...    True  \n",
       "996  [-0.13000488, -0.12939453, -0.12817383, -0.127...    True  \n",
       "997  [-0.0057678223, -0.006011963, -0.0059814453, -...    True  \n",
       "998  [-0.123291016, -0.12390137, -0.12451172, -0.12...    True  \n",
       "999  [-0.022094727, -0.021362305, -0.021728516, -0....    True  \n",
       "\n",
       "[1000 rows x 6 columns]"
      ]
     },
     "execution_count": 4,
     "metadata": {},
     "output_type": "execute_result"
    }
   ],
   "source": [
    "df_train_audio_data = al_train.get_audio_info_with_data()\n",
    "# df_test_audio_data = al_test.get_audio_info_with_data()\n",
    "# rp = ResultPickler()\n",
    "# rp.load_data(\"../models/LoadedAudioInfo.pkl\")\n",
    "# data_dict = rp.get_data()\n",
    "# # data_dict.keys()\n",
    "# df_train_audio_data = data_dict['TrainAudioInfoWithoutTTS']\n",
    "df_train_audio_data\n"
   ]
  },
  {
   "cell_type": "code",
   "execution_count": 5,
   "metadata": {},
   "outputs": [
    {
     "name": "stderr",
     "output_type": "stream",
     "text": [
      "AudioPreprocessor:ERROR->successfully Initialized AudioPreprocessor class!\n",
      "NoneType: None\n",
      "AudioPreprocessor:ERROR->successfully Initialized AudioPreprocessor class!\n",
      "NoneType: None\n"
     ]
    }
   ],
   "source": [
    "\n",
    "# instantiate audio manuplator class\n",
    "am_train = AudioManipulator(df_train_audio_data)\n"
   ]
  },
  {
   "cell_type": "code",
   "execution_count": 6,
   "metadata": {},
   "outputs": [
    {
     "data": {
      "image/png": "[encoded data removed]",
      "text/plain": [
       "<Figure size 432x288 with 1 Axes>"
      ]
     },
     "metadata": {
      "needs_background": "light"
     },
     "output_type": "display_data"
    }
   ],
   "source": [
    "# Plot Time Series data of \n",
    "vis.plot_series(df_train_audio_data.loc[0,\"TimeSeriesData\"])\n"
   ]
  },
  {
   "cell_type": "markdown",
   "metadata": {},
   "source": [
    "## Preprocessing the audio Data\n",
    "- ### change the duration to the same size\n",
    "- ### convert channels to stereo by duplicating the other channel\n",
    "- ### standardize the sampling rate to the same one\n",
    "- ### Data Augmentation\n",
    "- ### Extract Features\n",
    "\n"
   ]
  },
  {
   "cell_type": "markdown",
   "metadata": {},
   "source": [
    "### Convert Channels to Stereo by duplicating the other channel\n"
   ]
  },
  {
   "cell_type": "code",
   "execution_count": 7,
   "metadata": {},
   "outputs": [
    {
     "data": {
      "text/html": [
       "<div>\n",
       "<style scoped>\n",
       "    .dataframe tbody tr th:only-of-type {\n",
       "        vertical-align: middle;\n",
       "    }\n",
       "\n",
       "    .dataframe tbody tr th {\n",
       "        vertical-align: top;\n",
       "    }\n",
       "\n",
       "    .dataframe thead th {\n",
       "        text-align: right;\n",
       "    }\n",
       "</style>\n",
       "<table border=\"1\" class=\"dataframe\">\n",
       "  <thead>\n",
       "    <tr style=\"text-align: right;\">\n",
       "      <th></th>\n",
       "      <th>Name</th>\n",
       "      <th>Duration</th>\n",
       "      <th>Channels</th>\n",
       "      <th>SamplingRate</th>\n",
       "      <th>TimeSeriesData</th>\n",
       "      <th>HasTTS</th>\n",
       "    </tr>\n",
       "  </thead>\n",
       "  <tbody>\n",
       "    <tr>\n",
       "      <th>0</th>\n",
       "      <td>tr_1003_tr11004</td>\n",
       "      <td>4.736</td>\n",
       "      <td>Stereo</td>\n",
       "      <td>16000</td>\n",
       "      <td>[[-0.02355957, -0.023071289, -0.022705078, -0....</td>\n",
       "      <td>True</td>\n",
       "    </tr>\n",
       "    <tr>\n",
       "      <th>1</th>\n",
       "      <td>tr_10577_tr30138</td>\n",
       "      <td>8.576</td>\n",
       "      <td>Stereo</td>\n",
       "      <td>16000</td>\n",
       "      <td>[[-0.12817383, -0.12756348, -0.12817383, -0.12...</td>\n",
       "      <td>True</td>\n",
       "    </tr>\n",
       "    <tr>\n",
       "      <th>2</th>\n",
       "      <td>tr_10617_tr04131</td>\n",
       "      <td>4.608</td>\n",
       "      <td>Stereo</td>\n",
       "      <td>16000</td>\n",
       "      <td>[[-0.1159668, -0.11657715, -0.1171875, -0.1165...</td>\n",
       "      <td>True</td>\n",
       "    </tr>\n",
       "    <tr>\n",
       "      <th>3</th>\n",
       "      <td>tr_10399_tr23101</td>\n",
       "      <td>3.200</td>\n",
       "      <td>Stereo</td>\n",
       "      <td>16000</td>\n",
       "      <td>[[-0.12695312, -0.12756348, -0.12695312, -0.12...</td>\n",
       "      <td>True</td>\n",
       "    </tr>\n",
       "    <tr>\n",
       "      <th>4</th>\n",
       "      <td>tr_10379_tr100101</td>\n",
       "      <td>4.224</td>\n",
       "      <td>Stereo</td>\n",
       "      <td>16000</td>\n",
       "      <td>[[-0.13061523, -0.13000488, -0.13000488, -0.13...</td>\n",
       "      <td>True</td>\n",
       "    </tr>\n",
       "    <tr>\n",
       "      <th>...</th>\n",
       "      <td>...</td>\n",
       "      <td>...</td>\n",
       "      <td>...</td>\n",
       "      <td>...</td>\n",
       "      <td>...</td>\n",
       "      <td>...</td>\n",
       "    </tr>\n",
       "    <tr>\n",
       "      <th>995</th>\n",
       "      <td>tr_1016_tr11017</td>\n",
       "      <td>11.422</td>\n",
       "      <td>Stereo</td>\n",
       "      <td>16000</td>\n",
       "      <td>[[-0.01965332, -0.01965332, -0.01977539, -0.01...</td>\n",
       "      <td>True</td>\n",
       "    </tr>\n",
       "    <tr>\n",
       "      <th>996</th>\n",
       "      <td>tr_10054_tr098016</td>\n",
       "      <td>4.608</td>\n",
       "      <td>Stereo</td>\n",
       "      <td>16000</td>\n",
       "      <td>[[-0.13000488, -0.12939453, -0.12817383, -0.12...</td>\n",
       "      <td>True</td>\n",
       "    </tr>\n",
       "    <tr>\n",
       "      <th>997</th>\n",
       "      <td>tr_10_tr01010</td>\n",
       "      <td>10.368</td>\n",
       "      <td>Stereo</td>\n",
       "      <td>16000</td>\n",
       "      <td>[[-0.0057678223, -0.006011963, -0.0059814453, ...</td>\n",
       "      <td>True</td>\n",
       "    </tr>\n",
       "    <tr>\n",
       "      <th>998</th>\n",
       "      <td>tr_10370_tr100092</td>\n",
       "      <td>3.584</td>\n",
       "      <td>Stereo</td>\n",
       "      <td>16000</td>\n",
       "      <td>[[-0.123291016, -0.12390137, -0.12451172, -0.1...</td>\n",
       "      <td>True</td>\n",
       "    </tr>\n",
       "    <tr>\n",
       "      <th>999</th>\n",
       "      <td>tr_1096_tr11097</td>\n",
       "      <td>11.264</td>\n",
       "      <td>Stereo</td>\n",
       "      <td>16000</td>\n",
       "      <td>[[-0.022094727, -0.021362305, -0.021728516, -0...</td>\n",
       "      <td>True</td>\n",
       "    </tr>\n",
       "  </tbody>\n",
       "</table>\n",
       "<p>1000 rows × 6 columns</p>\n",
       "</div>"
      ],
      "text/plain": [
       "                  Name  Duration Channels  SamplingRate  \\\n",
       "0      tr_1003_tr11004     4.736   Stereo         16000   \n",
       "1     tr_10577_tr30138     8.576   Stereo         16000   \n",
       "2     tr_10617_tr04131     4.608   Stereo         16000   \n",
       "3     tr_10399_tr23101     3.200   Stereo         16000   \n",
       "4    tr_10379_tr100101     4.224   Stereo         16000   \n",
       "..                 ...       ...      ...           ...   \n",
       "995    tr_1016_tr11017    11.422   Stereo         16000   \n",
       "996  tr_10054_tr098016     4.608   Stereo         16000   \n",
       "997      tr_10_tr01010    10.368   Stereo         16000   \n",
       "998  tr_10370_tr100092     3.584   Stereo         16000   \n",
       "999    tr_1096_tr11097    11.264   Stereo         16000   \n",
       "\n",
       "                                        TimeSeriesData  HasTTS  \n",
       "0    [[-0.02355957, -0.023071289, -0.022705078, -0....    True  \n",
       "1    [[-0.12817383, -0.12756348, -0.12817383, -0.12...    True  \n",
       "2    [[-0.1159668, -0.11657715, -0.1171875, -0.1165...    True  \n",
       "3    [[-0.12695312, -0.12756348, -0.12695312, -0.12...    True  \n",
       "4    [[-0.13061523, -0.13000488, -0.13000488, -0.13...    True  \n",
       "..                                                 ...     ...  \n",
       "995  [[-0.01965332, -0.01965332, -0.01977539, -0.01...    True  \n",
       "996  [[-0.13000488, -0.12939453, -0.12817383, -0.12...    True  \n",
       "997  [[-0.0057678223, -0.006011963, -0.0059814453, ...    True  \n",
       "998  [[-0.123291016, -0.12390137, -0.12451172, -0.1...    True  \n",
       "999  [[-0.022094727, -0.021362305, -0.021728516, -0...    True  \n",
       "\n",
       "[1000 rows x 6 columns]"
      ]
     },
     "execution_count": 7,
     "metadata": {},
     "output_type": "execute_result"
    }
   ],
   "source": [
    "am_train.convert_stereo_audio()\n",
    "am_train.get_audio_info()"
   ]
  },
  {
   "cell_type": "code",
   "execution_count": 8,
   "metadata": {},
   "outputs": [
    {
     "data": {
      "text/plain": [
       "(2, 75776)"
      ]
     },
     "execution_count": 8,
     "metadata": {},
     "output_type": "execute_result"
    }
   ],
   "source": [
    "# am_train.get_audio_info().head().loc[0,\"TimeSeriesData\"].shape\n",
    "num_rows, y_len = am_train.get_audio_info().loc[0,\"TimeSeriesData\"].shape\n",
    "num_rows,y_len"
   ]
  },
  {
   "cell_type": "markdown",
   "metadata": {},
   "source": [
    "### Change the duration to the same size\n",
    "From Our Data Exploration, we found that most frequent audio files has a duration between 2 to 6. And to reduce the bias, we will pad all the audio to make it equal in length with the maximum."
   ]
  },
  {
   "cell_type": "code",
   "execution_count": 9,
   "metadata": {},
   "outputs": [],
   "source": [
    "am_train.resize_audio()\n"
   ]
  },
  {
   "cell_type": "code",
   "execution_count": 10,
   "metadata": {},
   "outputs": [
    {
     "data": {
      "text/html": [
       "<div>\n",
       "<style scoped>\n",
       "    .dataframe tbody tr th:only-of-type {\n",
       "        vertical-align: middle;\n",
       "    }\n",
       "\n",
       "    .dataframe tbody tr th {\n",
       "        vertical-align: top;\n",
       "    }\n",
       "\n",
       "    .dataframe thead th {\n",
       "        text-align: right;\n",
       "    }\n",
       "</style>\n",
       "<table border=\"1\" class=\"dataframe\">\n",
       "  <thead>\n",
       "    <tr style=\"text-align: right;\">\n",
       "      <th></th>\n",
       "      <th>Name</th>\n",
       "      <th>Duration</th>\n",
       "      <th>Channels</th>\n",
       "      <th>SamplingRate</th>\n",
       "      <th>TimeSeriesData</th>\n",
       "      <th>HasTTS</th>\n",
       "    </tr>\n",
       "  </thead>\n",
       "  <tbody>\n",
       "    <tr>\n",
       "      <th>0</th>\n",
       "      <td>tr_1003_tr11004</td>\n",
       "      <td>18.176</td>\n",
       "      <td>Stereo</td>\n",
       "      <td>16000</td>\n",
       "      <td>[[0.0, 0.0, 0.0, 0.0, 0.0, 0.0, 0.0, 0.0, 0.0,...</td>\n",
       "      <td>True</td>\n",
       "    </tr>\n",
       "    <tr>\n",
       "      <th>1</th>\n",
       "      <td>tr_10577_tr30138</td>\n",
       "      <td>18.176</td>\n",
       "      <td>Stereo</td>\n",
       "      <td>16000</td>\n",
       "      <td>[[0.0, 0.0, 0.0, 0.0, 0.0, 0.0, 0.0, 0.0, 0.0,...</td>\n",
       "      <td>True</td>\n",
       "    </tr>\n",
       "    <tr>\n",
       "      <th>2</th>\n",
       "      <td>tr_10617_tr04131</td>\n",
       "      <td>18.176</td>\n",
       "      <td>Stereo</td>\n",
       "      <td>16000</td>\n",
       "      <td>[[0.0, 0.0, 0.0, 0.0, 0.0, 0.0, 0.0, 0.0, 0.0,...</td>\n",
       "      <td>True</td>\n",
       "    </tr>\n",
       "    <tr>\n",
       "      <th>3</th>\n",
       "      <td>tr_10399_tr23101</td>\n",
       "      <td>18.176</td>\n",
       "      <td>Stereo</td>\n",
       "      <td>16000</td>\n",
       "      <td>[[0.0, 0.0, 0.0, 0.0, 0.0, 0.0, 0.0, 0.0, 0.0,...</td>\n",
       "      <td>True</td>\n",
       "    </tr>\n",
       "    <tr>\n",
       "      <th>4</th>\n",
       "      <td>tr_10379_tr100101</td>\n",
       "      <td>18.176</td>\n",
       "      <td>Stereo</td>\n",
       "      <td>16000</td>\n",
       "      <td>[[0.0, 0.0, 0.0, 0.0, 0.0, 0.0, 0.0, 0.0, 0.0,...</td>\n",
       "      <td>True</td>\n",
       "    </tr>\n",
       "    <tr>\n",
       "      <th>...</th>\n",
       "      <td>...</td>\n",
       "      <td>...</td>\n",
       "      <td>...</td>\n",
       "      <td>...</td>\n",
       "      <td>...</td>\n",
       "      <td>...</td>\n",
       "    </tr>\n",
       "    <tr>\n",
       "      <th>995</th>\n",
       "      <td>tr_1016_tr11017</td>\n",
       "      <td>18.176</td>\n",
       "      <td>Stereo</td>\n",
       "      <td>16000</td>\n",
       "      <td>[[0.0, 0.0, 0.0, 0.0, 0.0, 0.0, 0.0, 0.0, 0.0,...</td>\n",
       "      <td>True</td>\n",
       "    </tr>\n",
       "    <tr>\n",
       "      <th>996</th>\n",
       "      <td>tr_10054_tr098016</td>\n",
       "      <td>18.176</td>\n",
       "      <td>Stereo</td>\n",
       "      <td>16000</td>\n",
       "      <td>[[0.0, 0.0, 0.0, 0.0, 0.0, 0.0, 0.0, 0.0, 0.0,...</td>\n",
       "      <td>True</td>\n",
       "    </tr>\n",
       "    <tr>\n",
       "      <th>997</th>\n",
       "      <td>tr_10_tr01010</td>\n",
       "      <td>18.176</td>\n",
       "      <td>Stereo</td>\n",
       "      <td>16000</td>\n",
       "      <td>[[0.0, 0.0, 0.0, 0.0, 0.0, 0.0, 0.0, 0.0, 0.0,...</td>\n",
       "      <td>True</td>\n",
       "    </tr>\n",
       "    <tr>\n",
       "      <th>998</th>\n",
       "      <td>tr_10370_tr100092</td>\n",
       "      <td>18.176</td>\n",
       "      <td>Stereo</td>\n",
       "      <td>16000</td>\n",
       "      <td>[[0.0, 0.0, 0.0, 0.0, 0.0, 0.0, 0.0, 0.0, 0.0,...</td>\n",
       "      <td>True</td>\n",
       "    </tr>\n",
       "    <tr>\n",
       "      <th>999</th>\n",
       "      <td>tr_1096_tr11097</td>\n",
       "      <td>18.176</td>\n",
       "      <td>Stereo</td>\n",
       "      <td>16000</td>\n",
       "      <td>[[0.0, 0.0, 0.0, 0.0, 0.0, 0.0, 0.0, 0.0, 0.0,...</td>\n",
       "      <td>True</td>\n",
       "    </tr>\n",
       "  </tbody>\n",
       "</table>\n",
       "<p>1000 rows × 6 columns</p>\n",
       "</div>"
      ],
      "text/plain": [
       "                  Name  Duration Channels  SamplingRate  \\\n",
       "0      tr_1003_tr11004    18.176   Stereo         16000   \n",
       "1     tr_10577_tr30138    18.176   Stereo         16000   \n",
       "2     tr_10617_tr04131    18.176   Stereo         16000   \n",
       "3     tr_10399_tr23101    18.176   Stereo         16000   \n",
       "4    tr_10379_tr100101    18.176   Stereo         16000   \n",
       "..                 ...       ...      ...           ...   \n",
       "995    tr_1016_tr11017    18.176   Stereo         16000   \n",
       "996  tr_10054_tr098016    18.176   Stereo         16000   \n",
       "997      tr_10_tr01010    18.176   Stereo         16000   \n",
       "998  tr_10370_tr100092    18.176   Stereo         16000   \n",
       "999    tr_1096_tr11097    18.176   Stereo         16000   \n",
       "\n",
       "                                        TimeSeriesData  HasTTS  \n",
       "0    [[0.0, 0.0, 0.0, 0.0, 0.0, 0.0, 0.0, 0.0, 0.0,...    True  \n",
       "1    [[0.0, 0.0, 0.0, 0.0, 0.0, 0.0, 0.0, 0.0, 0.0,...    True  \n",
       "2    [[0.0, 0.0, 0.0, 0.0, 0.0, 0.0, 0.0, 0.0, 0.0,...    True  \n",
       "3    [[0.0, 0.0, 0.0, 0.0, 0.0, 0.0, 0.0, 0.0, 0.0,...    True  \n",
       "4    [[0.0, 0.0, 0.0, 0.0, 0.0, 0.0, 0.0, 0.0, 0.0,...    True  \n",
       "..                                                 ...     ...  \n",
       "995  [[0.0, 0.0, 0.0, 0.0, 0.0, 0.0, 0.0, 0.0, 0.0,...    True  \n",
       "996  [[0.0, 0.0, 0.0, 0.0, 0.0, 0.0, 0.0, 0.0, 0.0,...    True  \n",
       "997  [[0.0, 0.0, 0.0, 0.0, 0.0, 0.0, 0.0, 0.0, 0.0,...    True  \n",
       "998  [[0.0, 0.0, 0.0, 0.0, 0.0, 0.0, 0.0, 0.0, 0.0,...    True  \n",
       "999  [[0.0, 0.0, 0.0, 0.0, 0.0, 0.0, 0.0, 0.0, 0.0,...    True  \n",
       "\n",
       "[1000 rows x 6 columns]"
      ]
     },
     "execution_count": 10,
     "metadata": {},
     "output_type": "execute_result"
    }
   ],
   "source": [
    "am_train.get_audio_info()"
   ]
  },
  {
   "cell_type": "code",
   "execution_count": 10,
   "metadata": {},
   "outputs": [
    {
     "data": {
      "text/plain": [
       "(2, 211024)"
      ]
     },
     "execution_count": 10,
     "metadata": {},
     "output_type": "execute_result"
    }
   ],
   "source": [
    "am_train.get_audio_info().loc[0,\"TimeSeriesData\"].shape"
   ]
  },
  {
   "cell_type": "markdown",
   "metadata": {},
   "source": [
    "### Standardize Sampling Rate"
   ]
  },
  {
   "cell_type": "code",
   "execution_count": 11,
   "metadata": {},
   "outputs": [
    {
     "data": {
      "text/html": [
       "<div>\n",
       "<style scoped>\n",
       "    .dataframe tbody tr th:only-of-type {\n",
       "        vertical-align: middle;\n",
       "    }\n",
       "\n",
       "    .dataframe tbody tr th {\n",
       "        vertical-align: top;\n",
       "    }\n",
       "\n",
       "    .dataframe thead th {\n",
       "        text-align: right;\n",
       "    }\n",
       "</style>\n",
       "<table border=\"1\" class=\"dataframe\">\n",
       "  <thead>\n",
       "    <tr style=\"text-align: right;\">\n",
       "      <th></th>\n",
       "      <th>count</th>\n",
       "    </tr>\n",
       "    <tr>\n",
       "      <th>SamplingRate</th>\n",
       "      <th></th>\n",
       "    </tr>\n",
       "  </thead>\n",
       "  <tbody>\n",
       "    <tr>\n",
       "      <th>16000</th>\n",
       "      <td>999</td>\n",
       "    </tr>\n",
       "  </tbody>\n",
       "</table>\n",
       "</div>"
      ],
      "text/plain": [
       "              count\n",
       "SamplingRate       \n",
       "16000           999"
      ]
     },
     "execution_count": 11,
     "metadata": {},
     "output_type": "execute_result"
    }
   ],
   "source": [
    "# count sampling rate frequencies\n",
    "pd.DataFrame({\"count\": df_train_audio_data.groupby(\"SamplingRate\")[\"SamplingRate\"].count()})\n"
   ]
  },
  {
   "cell_type": "code",
   "execution_count": 12,
   "metadata": {},
   "outputs": [],
   "source": [
    "am_train.resample_audio()"
   ]
  },
  {
   "cell_type": "code",
   "execution_count": 13,
   "metadata": {},
   "outputs": [
    {
     "data": {
      "text/html": [
       "<div>\n",
       "<style scoped>\n",
       "    .dataframe tbody tr th:only-of-type {\n",
       "        vertical-align: middle;\n",
       "    }\n",
       "\n",
       "    .dataframe tbody tr th {\n",
       "        vertical-align: top;\n",
       "    }\n",
       "\n",
       "    .dataframe thead th {\n",
       "        text-align: right;\n",
       "    }\n",
       "</style>\n",
       "<table border=\"1\" class=\"dataframe\">\n",
       "  <thead>\n",
       "    <tr style=\"text-align: right;\">\n",
       "      <th></th>\n",
       "      <th>Name</th>\n",
       "      <th>Duration</th>\n",
       "      <th>Channels</th>\n",
       "      <th>SamplingRate</th>\n",
       "      <th>TimeSeriesData</th>\n",
       "      <th>HasTTS</th>\n",
       "    </tr>\n",
       "  </thead>\n",
       "  <tbody>\n",
       "    <tr>\n",
       "      <th>0</th>\n",
       "      <td>tr_10577_tr30138</td>\n",
       "      <td>9.57</td>\n",
       "      <td>Stereo</td>\n",
       "      <td>22500</td>\n",
       "      <td>[[0.0, 0.0, 0.0, 0.0, 0.0, 0.0, 0.0, 0.0, 0.0,...</td>\n",
       "      <td>True</td>\n",
       "    </tr>\n",
       "    <tr>\n",
       "      <th>1</th>\n",
       "      <td>tr_10617_tr04131</td>\n",
       "      <td>9.57</td>\n",
       "      <td>Stereo</td>\n",
       "      <td>22500</td>\n",
       "      <td>[[0.0, 0.0, 0.0, 0.0, 0.0, 0.0, 0.0, 0.0, 0.0,...</td>\n",
       "      <td>True</td>\n",
       "    </tr>\n",
       "    <tr>\n",
       "      <th>2</th>\n",
       "      <td>tr_10399_tr23101</td>\n",
       "      <td>9.57</td>\n",
       "      <td>Stereo</td>\n",
       "      <td>22500</td>\n",
       "      <td>[[0.0, 0.0, 0.0, 0.0, 0.0, 0.0, 0.0, 0.0, 0.0,...</td>\n",
       "      <td>True</td>\n",
       "    </tr>\n",
       "    <tr>\n",
       "      <th>3</th>\n",
       "      <td>tr_10379_tr100101</td>\n",
       "      <td>9.57</td>\n",
       "      <td>Stereo</td>\n",
       "      <td>22500</td>\n",
       "      <td>[[0.0, 0.0, 0.0, 0.0, 0.0, 0.0, 0.0, 0.0, 0.0,...</td>\n",
       "      <td>True</td>\n",
       "    </tr>\n",
       "    <tr>\n",
       "      <th>4</th>\n",
       "      <td>tr_10171_tr099013</td>\n",
       "      <td>9.57</td>\n",
       "      <td>Stereo</td>\n",
       "      <td>22500</td>\n",
       "      <td>[[0.0, 0.0, 0.0, 0.0, 0.0, 0.0, 0.0, 0.0, 0.0,...</td>\n",
       "      <td>True</td>\n",
       "    </tr>\n",
       "    <tr>\n",
       "      <th>...</th>\n",
       "      <td>...</td>\n",
       "      <td>...</td>\n",
       "      <td>...</td>\n",
       "      <td>...</td>\n",
       "      <td>...</td>\n",
       "      <td>...</td>\n",
       "    </tr>\n",
       "    <tr>\n",
       "      <th>994</th>\n",
       "      <td>tr_1016_tr11017</td>\n",
       "      <td>9.57</td>\n",
       "      <td>Stereo</td>\n",
       "      <td>22500</td>\n",
       "      <td>[[0.0, 0.0, 0.0, 0.0, 0.0, 0.0, 0.0, 0.0, 0.0,...</td>\n",
       "      <td>True</td>\n",
       "    </tr>\n",
       "    <tr>\n",
       "      <th>995</th>\n",
       "      <td>tr_10054_tr098016</td>\n",
       "      <td>9.57</td>\n",
       "      <td>Stereo</td>\n",
       "      <td>22500</td>\n",
       "      <td>[[0.0, 0.0, 0.0, 0.0, 0.0, 0.0, 0.0, 0.0, 0.0,...</td>\n",
       "      <td>True</td>\n",
       "    </tr>\n",
       "    <tr>\n",
       "      <th>996</th>\n",
       "      <td>tr_10_tr01010</td>\n",
       "      <td>9.57</td>\n",
       "      <td>Stereo</td>\n",
       "      <td>22500</td>\n",
       "      <td>[[0.0, 0.0, 0.0, 0.0, 0.0, 0.0, 0.0, 0.0, 0.0,...</td>\n",
       "      <td>True</td>\n",
       "    </tr>\n",
       "    <tr>\n",
       "      <th>997</th>\n",
       "      <td>tr_10370_tr100092</td>\n",
       "      <td>9.57</td>\n",
       "      <td>Stereo</td>\n",
       "      <td>22500</td>\n",
       "      <td>[[0.0, 0.0, 0.0, 0.0, 0.0, 0.0, 0.0, 0.0, 0.0,...</td>\n",
       "      <td>True</td>\n",
       "    </tr>\n",
       "    <tr>\n",
       "      <th>998</th>\n",
       "      <td>tr_1096_tr11097</td>\n",
       "      <td>9.57</td>\n",
       "      <td>Stereo</td>\n",
       "      <td>22500</td>\n",
       "      <td>[[0.0, 0.0, 0.0, 0.0, 0.0, 0.0, 0.0, 0.0, 0.0,...</td>\n",
       "      <td>True</td>\n",
       "    </tr>\n",
       "  </tbody>\n",
       "</table>\n",
       "<p>999 rows × 6 columns</p>\n",
       "</div>"
      ],
      "text/plain": [
       "                  Name  Duration Channels  SamplingRate  \\\n",
       "0     tr_10577_tr30138      9.57   Stereo         22500   \n",
       "1     tr_10617_tr04131      9.57   Stereo         22500   \n",
       "2     tr_10399_tr23101      9.57   Stereo         22500   \n",
       "3    tr_10379_tr100101      9.57   Stereo         22500   \n",
       "4    tr_10171_tr099013      9.57   Stereo         22500   \n",
       "..                 ...       ...      ...           ...   \n",
       "994    tr_1016_tr11017      9.57   Stereo         22500   \n",
       "995  tr_10054_tr098016      9.57   Stereo         22500   \n",
       "996      tr_10_tr01010      9.57   Stereo         22500   \n",
       "997  tr_10370_tr100092      9.57   Stereo         22500   \n",
       "998    tr_1096_tr11097      9.57   Stereo         22500   \n",
       "\n",
       "                                        TimeSeriesData  HasTTS  \n",
       "0    [[0.0, 0.0, 0.0, 0.0, 0.0, 0.0, 0.0, 0.0, 0.0,...    True  \n",
       "1    [[0.0, 0.0, 0.0, 0.0, 0.0, 0.0, 0.0, 0.0, 0.0,...    True  \n",
       "2    [[0.0, 0.0, 0.0, 0.0, 0.0, 0.0, 0.0, 0.0, 0.0,...    True  \n",
       "3    [[0.0, 0.0, 0.0, 0.0, 0.0, 0.0, 0.0, 0.0, 0.0,...    True  \n",
       "4    [[0.0, 0.0, 0.0, 0.0, 0.0, 0.0, 0.0, 0.0, 0.0,...    True  \n",
       "..                                                 ...     ...  \n",
       "994  [[0.0, 0.0, 0.0, 0.0, 0.0, 0.0, 0.0, 0.0, 0.0,...    True  \n",
       "995  [[0.0, 0.0, 0.0, 0.0, 0.0, 0.0, 0.0, 0.0, 0.0,...    True  \n",
       "996  [[0.0, 0.0, 0.0, 0.0, 0.0, 0.0, 0.0, 0.0, 0.0,...    True  \n",
       "997  [[0.0, 0.0, 0.0, 0.0, 0.0, 0.0, 0.0, 0.0, 0.0,...    True  \n",
       "998  [[0.0, 0.0, 0.0, 0.0, 0.0, 0.0, 0.0, 0.0, 0.0,...    True  \n",
       "\n",
       "[999 rows x 6 columns]"
      ]
     },
     "execution_count": 13,
     "metadata": {},
     "output_type": "execute_result"
    }
   ],
   "source": [
    "am_train.get_audio_info()"
   ]
  },
  {
   "cell_type": "markdown",
   "metadata": {},
   "source": [
    "### Our SamplingRate is the same all around our data but we have resampled it to 44100. Now we have our processed data, we will save the preprocessed files to a folder in a .wav format. \n",
    "\n",
    " "
   ]
  },
  {
   "cell_type": "code",
   "execution_count": 14,
   "metadata": {},
   "outputs": [],
   "source": [
    "am_train.write_wave_files(\"../data/train/wav/\")"
   ]
  },
  {
   "cell_type": "markdown",
   "metadata": {},
   "source": [
    "## Augmentation"
   ]
  },
  {
   "cell_type": "code",
   "execution_count": null,
   "metadata": {},
   "outputs": [],
   "source": []
  },
  {
   "cell_type": "markdown",
   "metadata": {},
   "source": [
    "## Feature Extraction\n",
    "### We can now extract features but first we convert back to mono since the librosa library expects a monochannel audio."
   ]
  },
  {
   "cell_type": "code",
   "execution_count": 24,
   "metadata": {},
   "outputs": [
    {
     "name": "stderr",
     "output_type": "stream",
     "text": [
      "/home/dibora/AMH-STT/STT/lib/python3.7/site-packages/librosa/core/spectrum.py:224: UserWarning: n_fft=2048 is too small for input signal of length=132\n",
      "  n_fft, y.shape[-1]\n"
     ]
    }
   ],
   "source": [
    "\n",
    "# features = am_train.extract_features()"
   ]
  },
  {
   "cell_type": "code",
   "execution_count": 25,
   "metadata": {},
   "outputs": [
    {
     "data": {
      "text/html": [
       "<div>\n",
       "<style scoped>\n",
       "    .dataframe tbody tr th:only-of-type {\n",
       "        vertical-align: middle;\n",
       "    }\n",
       "\n",
       "    .dataframe tbody tr th {\n",
       "        vertical-align: top;\n",
       "    }\n",
       "\n",
       "    .dataframe thead th {\n",
       "        text-align: right;\n",
       "    }\n",
       "</style>\n",
       "<table border=\"1\" class=\"dataframe\">\n",
       "  <thead>\n",
       "    <tr style=\"text-align: right;\">\n",
       "      <th></th>\n",
       "      <th>Name</th>\n",
       "      <th>Melspectogram</th>\n",
       "      <th>Melspectogram_db</th>\n",
       "    </tr>\n",
       "  </thead>\n",
       "  <tbody>\n",
       "    <tr>\n",
       "      <th>0</th>\n",
       "      <td>tr_1003_tr11004</td>\n",
       "      <td>[[2.7900546], [0.041047245], [0.0005915265], [...</td>\n",
       "      <td>[[0.0], [-18.323288], [-36.736385], [-46.55433...</td>\n",
       "    </tr>\n",
       "    <tr>\n",
       "      <th>1</th>\n",
       "      <td>tr_10577_tr30138</td>\n",
       "      <td>[[82.89139], [1.2032433], [0.15116173], [0.045...</td>\n",
       "      <td>[[-1.9073486e-06], [-18.381561], [-27.390676],...</td>\n",
       "    </tr>\n",
       "    <tr>\n",
       "      <th>2</th>\n",
       "      <td>tr_10617_tr04131</td>\n",
       "      <td>[[81.84967], [1.2774433], [0.1626715], [0.1271...</td>\n",
       "      <td>[[0.0], [-18.066753], [-27.017056], [-28.08648...</td>\n",
       "    </tr>\n",
       "    <tr>\n",
       "      <th>3</th>\n",
       "      <td>tr_10399_tr23101</td>\n",
       "      <td>[[85.895645], [1.2551126], [0.038612414], [0.0...</td>\n",
       "      <td>[[0.0], [-18.352884], [-33.472443], [-44.09732...</td>\n",
       "    </tr>\n",
       "    <tr>\n",
       "      <th>4</th>\n",
       "      <td>tr_10379_tr100101</td>\n",
       "      <td>[[86.75957], [1.2598524], [0.12583095], [0.034...</td>\n",
       "      <td>[[1.9073486e-06], [-18.379976], [-28.385298], ...</td>\n",
       "    </tr>\n",
       "  </tbody>\n",
       "</table>\n",
       "</div>"
      ],
      "text/plain": [
       "                Name                                      Melspectogram  \\\n",
       "0    tr_1003_tr11004  [[2.7900546], [0.041047245], [0.0005915265], [...   \n",
       "1   tr_10577_tr30138  [[82.89139], [1.2032433], [0.15116173], [0.045...   \n",
       "2   tr_10617_tr04131  [[81.84967], [1.2774433], [0.1626715], [0.1271...   \n",
       "3   tr_10399_tr23101  [[85.895645], [1.2551126], [0.038612414], [0.0...   \n",
       "4  tr_10379_tr100101  [[86.75957], [1.2598524], [0.12583095], [0.034...   \n",
       "\n",
       "                                    Melspectogram_db  \n",
       "0  [[0.0], [-18.323288], [-36.736385], [-46.55433...  \n",
       "1  [[-1.9073486e-06], [-18.381561], [-27.390676],...  \n",
       "2  [[0.0], [-18.066753], [-27.017056], [-28.08648...  \n",
       "3  [[0.0], [-18.352884], [-33.472443], [-44.09732...  \n",
       "4  [[1.9073486e-06], [-18.379976], [-28.385298], ...  "
      ]
     },
     "execution_count": 25,
     "metadata": {},
     "output_type": "execute_result"
    }
   ],
   "source": [
    "# features.head()"
   ]
  },
  {
   "cell_type": "code",
   "execution_count": 26,
   "metadata": {},
   "outputs": [
    {
     "data": {
      "image/png": "[encoded data removed]",
      "text/plain": [
       "<Figure size 432x288 with 2 Axes>"
      ]
     },
     "metadata": {
      "needs_background": "light"
     },
     "output_type": "display_data"
    }
   ],
   "source": [
    "# vis.plot_spectrogram(features.loc[0,'Melspectogram'])"
   ]
  },
  {
   "cell_type": "code",
   "execution_count": 27,
   "metadata": {},
   "outputs": [
    {
     "data": {
      "image/png": "[encoded data removed]",
      "text/plain": [
       "<Figure size 432x288 with 2 Axes>"
      ]
     },
     "metadata": {
      "needs_background": "light"
     },
     "output_type": "display_data"
    }
   ],
   "source": [
    "# vis.plot_spectrogram(features.loc[0,'Melspectogram_db'])"
   ]
  },
  {
   "cell_type": "markdown",
   "metadata": {},
   "source": []
  }
 ],
 "metadata": {
  "interpreter": {
   "hash": "0e39dd039c79894c5c8eaa0308b24d5ba0115abe9baefb5e95928432ee3a3fd5"
  },
  "kernelspec": {
   "display_name": "Python 3.7.10 64-bit ('STT': venv)",
   "language": "python",
   "name": "python3710jvsc74a57bd00e39dd039c79894c5c8eaa0308b24d5ba0115abe9baefb5e95928432ee3a3fd5"
  },
  "language_info": {
   "codemirror_mode": {
    "name": "ipython",
    "version": 3
   },
   "file_extension": ".py",
   "mimetype": "text/x-python",
   "name": "python",
   "nbconvert_exporter": "python",
   "pygments_lexer": "ipython3",
   "version": "3.7.10"
  }
 },
 "nbformat": 4,
 "nbformat_minor": 2
}
