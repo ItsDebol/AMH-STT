{
 "cells": [
  {
   "cell_type": "markdown",
   "source": [
    "# TRAINING LSTM ASR MODELS"
   ],
   "metadata": {}
  },
  {
   "cell_type": "code",
   "execution_count": null,
   "source": [
    "# Importing Class\r\n",
    "import sys\r\n",
    "import os\r\n",
    "\r\n",
    "sys.path.append(os.path.abspath(os.path.join('..')))\r\n",
    "from scripts.model_trainer import ModelTrainer\r\n"
   ],
   "outputs": [],
   "metadata": {}
  },
  {
   "cell_type": "code",
   "execution_count": null,
   "source": [
    "# Creating Model Trainer Class\r\n",
    "model_trainer = ModelTrainer(feature_used='logmelfb', duration_range=(3, 6))\r\n"
   ],
   "outputs": [],
   "metadata": {}
  },
  {
   "cell_type": "code",
   "execution_count": null,
   "source": [
    "# Loading Audio Files to the Class\r\n",
    "model_trainer.load_audio_files()"
   ],
   "outputs": [],
   "metadata": {}
  },
  {
   "cell_type": "code",
   "execution_count": null,
   "source": [
    "# Extracting Features and Constructing Model Input and Target Values\r\n",
    "model_trainer.construct_inputs()\r\n",
    "model_trainer.construct_targets()"
   ],
   "outputs": [],
   "metadata": {}
  },
  {
   "cell_type": "code",
   "execution_count": null,
   "source": [
    "# Spliting Training and Validation Sets\r\n",
    "model_trainer.split_train_validation_sets()\r\n",
    "model_trainer.get_input_target_shapes()"
   ],
   "outputs": [],
   "metadata": {}
  },
  {
   "cell_type": "markdown",
   "source": [
    "## STACKED LSTM LAYER MODEL"
   ],
   "metadata": {}
  },
  {
   "cell_type": "code",
   "execution_count": null,
   "source": [
    "# Defining Input parameters for model and selecting model to use\r\n",
    "model_trainer.define_model_input_params()\r\n",
    "model_trainer.create_train_predict_models(model_name='stacked_lstm')"
   ],
   "outputs": [],
   "metadata": {}
  },
  {
   "cell_type": "code",
   "execution_count": null,
   "source": [
    "# Training Selected Model\r\n",
    "model_trainer.train_model(model_name='stacked-lstm', mlflow_experiment='STACKED LSTM Layers',\r\n",
    "                          batch_size=105, optimizer='adam', learning_rate=0.001, early_stop=False) #0.001(best so far)"
   ],
   "outputs": [],
   "metadata": {}
  },
  {
   "cell_type": "code",
   "execution_count": null,
   "source": [
    "# Displaying Trained Model Loss Diagrams\r\n",
    "# Loss Diagram (Type 1)\r\n",
    "model_trainer.draw_result_plots('stacked_lstm',1)\r\n",
    "# LER Diagram (Type 2)\r\n",
    "model_trainer.draw_result_plots('stacked_lstm',2)\r\n"
   ],
   "outputs": [],
   "metadata": {}
  },
  {
   "cell_type": "code",
   "execution_count": null,
   "source": [
    "# Getting Sample Transcriptions Made by the Model\r\n",
    "model_trainer.get_sample_trained_model_transcriptions()"
   ],
   "outputs": [],
   "metadata": {}
  },
  {
   "cell_type": "code",
   "execution_count": null,
   "source": [
    "# Getting Sample Transcriptions Made by the Model, checking if augmented files have different transcriptions\r\n",
    "model_trainer.get_sample_trained_model_transcriptions(check_augmentation=True)\r\n"
   ],
   "outputs": [],
   "metadata": {}
  },
  {
   "cell_type": "markdown",
   "source": [
    "## Bidirectional LSTM MODEL"
   ],
   "metadata": {}
  },
  {
   "cell_type": "code",
   "execution_count": null,
   "source": [
    "# Defining Input parameters for model and selecting model to use\r\n",
    "model_trainer.define_model_input_params()\r\n",
    "model_trainer.create_train_predict_models(model_name='bidirectional_lstm')\r\n"
   ],
   "outputs": [],
   "metadata": {}
  },
  {
   "cell_type": "code",
   "execution_count": null,
   "source": [
    "# Training Selected Model\r\n",
    "model_trainer.train_model(model_name='stacked-lstm', mlflow_experiment='BIDIRECTIONAL LSTM Layers',\r\n",
    "                          batch_size=50, optimizer='sgd', learning_rate=0.0005, early_stop=False)"
   ],
   "outputs": [],
   "metadata": {}
  },
  {
   "cell_type": "code",
   "execution_count": null,
   "source": [
    "# Displaying Trained Model Loss Diagrams\r\n",
    "# Loss Diagram (Type 1)\r\n",
    "model_trainer.draw_result_plots('bidirectional_lstm', 1)\r\n",
    "# LER Diagram (Type 2)\r\n",
    "model_trainer.draw_result_plots('bidirectional_lstm', 2)\r\n"
   ],
   "outputs": [],
   "metadata": {}
  },
  {
   "cell_type": "code",
   "execution_count": null,
   "source": [
    "# Getting Sample Transcriptions Made by the Model\r\n",
    "model_trainer.get_sample_trained_model_transcriptions()\r\n"
   ],
   "outputs": [],
   "metadata": {}
  }
 ],
 "metadata": {
  "orig_nbformat": 4,
  "language_info": {
   "name": "python",
   "version": "3.8.4",
   "mimetype": "text/x-python",
   "codemirror_mode": {
    "name": "ipython",
    "version": 3
   },
   "pygments_lexer": "ipython3",
   "nbconvert_exporter": "python",
   "file_extension": ".py"
  },
  "kernelspec": {
   "name": "python3",
   "display_name": "Python 3.8.4 64-bit"
  },
  "interpreter": {
   "hash": "2db524e06e9f5f4ffedc911c917cb75e12dbc923643829bf417064a77eb14d37"
  }
 },
 "nbformat": 4,
 "nbformat_minor": 2
}